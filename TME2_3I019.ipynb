{
 "cells": [
  {
   "cell_type": "markdown",
   "metadata": {},
   "source": [
    "# TME 2 : Prédiction de gènes - Détection de gènes candidats\n",
    "\n",
    "Le but de ce TME est d’annoter les régions dans le génome qui correspondent à des gènes. Nous allons prendre en compte les différents éléments qui définissent un gène pour pouvoir déterminer les candidats à des régions codantes : phases ouvertes de lecture, propriétés statistiques du code génétique, et comparer les résultats avec l’annotation qui est disponible. \n",
    "Nous nous baserons sur le génome de _Bifidobacterium actinocoloniiforme_ que nous avons commencé à analyser au TME précédent, avec ses annotations et au génome de _Escherichia coli_\n"
   ]
  },
  {
   "cell_type": "markdown",
   "metadata": {},
   "source": [
    "### A) Mise en route,  télécharger et preparer les données"
   ]
  },
  {
   "cell_type": "markdown",
   "metadata": {},
   "source": [
    "<b>Question 1)</b> Adapter les commandes du TME précédent pour télécharger le génome de _E. coli_ ainsi que ses annotations"
   ]
  },
  {
   "cell_type": "markdown",
   "metadata": {},
   "source": [
    "\n",
    "ftp://ftp.ncbi.nlm.nih.gov/genomes/all/GCF/000/026/345/GCF_000026345.1_ASM2634v1/GCF_000026345.1_ASM2634v1_genomic.fna.gz\n",
    "\n",
    "ftp://ftp.ncbi.nlm.nih.gov/genomes/all/GCF/000/026/345/GCF_000026345.1_ASM2634v1/GCF_000026345.1_ASM2634v1_feature_table.txt.gz\n"
   ]
  },
  {
   "cell_type": "code",
   "execution_count": 3,
   "metadata": {},
   "outputs": [],
   "source": [
    "import urllib.request\n",
    "#Utliser la fonction urllib.request.urlretrieve(path)"
   ]
  },
  {
   "cell_type": "code",
   "execution_count": 4,
   "metadata": {},
   "outputs": [
    {
     "data": {
      "text/plain": [
       "('_genomic.fna.gz', <http.client.HTTPMessage at 0x7f9884236da0>)"
      ]
     },
     "execution_count": 4,
     "metadata": {},
     "output_type": "execute_result"
    }
   ],
   "source": [
    "#download _genomic.fna.gz\n",
    "urllib.request.urlretrieve(\"ftp://ftp.ncbi.nlm.nih.gov/genomes/all/GCF/000/026/345/GCF_000026345.1_ASM2634v1/GCF_000026345.1_ASM2634v1_genomic.fna.gz\",\"_genomic.fna.gz\")"
   ]
  },
  {
   "cell_type": "code",
   "execution_count": 5,
   "metadata": {},
   "outputs": [
    {
     "data": {
      "text/plain": [
       "('_feature_table.txt.gz', <http.client.HTTPMessage at 0x7f98841e4080>)"
      ]
     },
     "execution_count": 5,
     "metadata": {},
     "output_type": "execute_result"
    }
   ],
   "source": [
    "#download _feature_table.txt.gz\n",
    "urllib.request.urlretrieve(\"ftp://ftp.ncbi.nlm.nih.gov/genomes/all/GCF/000/026/345/GCF_000026345.1_ASM2634v1/GCF_000026345.1_ASM2634v1_feature_table.txt.gz\",\"_feature_table.txt.gz\")"
   ]
  },
  {
   "cell_type": "markdown",
   "metadata": {},
   "source": [
    "<b>Question 2)</b> Decompresser les fichiers"
   ]
  },
  {
   "cell_type": "code",
   "execution_count": 6,
   "metadata": {},
   "outputs": [],
   "source": [
    "import gzip\n",
    "import shutil"
   ]
  },
  {
   "cell_type": "code",
   "execution_count": 7,
   "metadata": {},
   "outputs": [
    {
     "ename": "SyntaxError",
     "evalue": "invalid syntax (<ipython-input-7-ed2cabc5c73a>, line 3)",
     "output_type": "error",
     "traceback": [
      "\u001b[0;36m  File \u001b[0;32m\"<ipython-input-7-ed2cabc5c73a>\"\u001b[0;36m, line \u001b[0;32m3\u001b[0m\n\u001b[0;31m    gunzip _genomic.fna.gz\u001b[0m\n\u001b[0m                  ^\u001b[0m\n\u001b[0;31mSyntaxError\u001b[0m\u001b[0;31m:\u001b[0m invalid syntax\n"
     ]
    }
   ],
   "source": [
    "#Decompresser _genomic.fna.gz\n",
    "%%bash\n",
    "gunzip _genomic.fna.gz"
   ]
  },
  {
   "cell_type": "code",
   "execution_count": 8,
   "metadata": {},
   "outputs": [
    {
     "ename": "SyntaxError",
     "evalue": "invalid syntax (<ipython-input-8-eff64ae05575>, line 3)",
     "output_type": "error",
     "traceback": [
      "\u001b[0;36m  File \u001b[0;32m\"<ipython-input-8-eff64ae05575>\"\u001b[0;36m, line \u001b[0;32m3\u001b[0m\n\u001b[0;31m    gunzip _feature_table.txt.gz\u001b[0m\n\u001b[0m                        ^\u001b[0m\n\u001b[0;31mSyntaxError\u001b[0m\u001b[0;31m:\u001b[0m invalid syntax\n"
     ]
    }
   ],
   "source": [
    "#Decompresser _feature_table.txt.gz\n",
    "%%bash\n",
    "gunzip _feature_table.txt.gz"
   ]
  },
  {
   "cell_type": "markdown",
   "metadata": {},
   "source": [
    "<b>Question 3)</b> Exécuter le code ci-dessous qui va créer un dictionnaire pour représenter le code genetique. Vous avez également deux jeu de séquences pour tester les prochaines fonctions."
   ]
  },
  {
   "cell_type": "code",
   "execution_count": 9,
   "metadata": {},
   "outputs": [],
   "source": [
    "# Dictionnaire codons -> acides aminés. Les codons stops sont représentés\n",
    "# avec le caractère \"*\"\n",
    "CODEGENETIQUE = {\n",
    "    \"TTT\": \"F\",\n",
    "    \"TTC\": \"F\",\n",
    "    \"TTA\": \"L\",\n",
    "    \"TTG\": \"L\",\n",
    "    \"TCT\": \"S\",\n",
    "    \"TCC\": \"S\",\n",
    "    \"TCA\": \"S\",\n",
    "    \"TCG\": \"S\",\n",
    "    \"TAT\": \"Y\",\n",
    "    \"TAC\": \"Y\",\n",
    "    \"TAA\": \"*\",\n",
    "    \"TAG\": \"*\",\n",
    "    \"TGT\": \"C\",\n",
    "    \"TGC\": \"C\",\n",
    "    \"TGA\": \"*\",\n",
    "    \"TGG\": \"W\",\n",
    "    \"CTT\": \"L\",\n",
    "    \"CTC\": \"L\",\n",
    "    \"CTA\": \"L\",\n",
    "    \"CTG\": \"L\",\n",
    "    \"CCT\": \"P\",\n",
    "    \"CCC\": \"P\",\n",
    "    \"CCA\": \"P\",\n",
    "    \"CCG\": \"P\",\n",
    "    \"CAT\": \"H\",\n",
    "    \"CAC\": \"H\",\n",
    "    \"CAA\": \"Q\",\n",
    "    \"CAG\": \"Q\",\n",
    "    \"CGT\": \"R\",\n",
    "    \"CGC\": \"R\",\n",
    "    \"CGA\": \"R\",\n",
    "    \"CGG\": \"R\",\n",
    "    \"ATT\": \"I\",\n",
    "    \"ATC\": \"I\",\n",
    "    \"ATA\": \"I\",\n",
    "    \"ATG\": \"M\",\n",
    "    \"ACT\": \"T\",\n",
    "    \"ACC\": \"T\",\n",
    "    \"ACA\": \"T\",\n",
    "    \"ACG\": \"T\",\n",
    "    \"AAT\": \"N\",\n",
    "    \"AAC\": \"N\",\n",
    "    \"AAA\": \"K\",\n",
    "    \"AAG\": \"K\",\n",
    "    \"AGT\": \"S\",\n",
    "    \"AGC\": \"S\",\n",
    "    \"AGA\": \"R\",\n",
    "    \"AGG\": \"R\",\n",
    "    \"GTT\": \"V\",\n",
    "    \"GTC\": \"V\",\n",
    "    \"GTA\": \"V\",\n",
    "    \"GTG\": \"V\",\n",
    "    \"GCT\": \"A\",\n",
    "    \"GCC\": \"A\",\n",
    "    \"GCA\": \"A\",\n",
    "    \"GCG\": \"A\",\n",
    "    \"GAT\": \"D\",\n",
    "    \"GAC\": \"D\",\n",
    "    \"GAA\": \"E\",\n",
    "    \"GAG\": \"E\",\n",
    "    \"GGT\": \"G\",\n",
    "    \"GGC\": \"G\",\n",
    "    \"GGA\": \"G\",\n",
    "    \"GGG\": \"G\"\n",
    "}\n",
    "\n",
    "# Utiliser les sequences TESTSEQ et TESTSEQCLEAN pour tester vos fonctions\n",
    "TESTSEQ = \"ATGAAACGCATTAGCMMCACCATTACCACCACCATCACCATTACCACAGKTAACGGTGCGGGCTGA\"\n",
    "TESTSEQCLEAN = \"ATGAAACGCATTAGCACCACCATTACCACCACCATCACCATTACCACAGGTAACGGTGCGGGCTGA\""
   ]
  },
  {
   "cell_type": "markdown",
   "metadata": {},
   "source": [
    "### B) Annotation des phases ouvertes de lecture et traduction en séquence protéique\n",
    "\n",
    "<b>Question 1)</b> Parfois dans les génomes (représentés par des fichiers numériques), nous trouvons des nucléotides qui n'ont pas été correctement identifiés par la machine de séquençage. Certains instruments nous restreignent les possibilités à un sous-ensemble de nucléotides. Ecrire une fonction `remplace_non_identifies` qui remplace les nucléotides non identifiés par une des possibilités listées ci-dessous de façon aléatoire.<br>\n",
    "\n",
    "R = G,A (purine)<br>\n",
    "Y = T,C (pyrimidine)<br>\n",
    "K = G,T (céto)<br>\n",
    "M = A,C (amino)<br>\n",
    "S = G,C (obligations solides)<br>\n",
    "W = A,T (Les liaisons faibles)<br>\n",
    "B = G,T,C (tous sauf A)<br>\n",
    "D = G,A,T (tous sauf C)<br>\n",
    "H = A,C,T (tous sauf G)<br>\n",
    "V = G,C,A (tous sauf T)<br>\n",
    "N = A,G,C,T (any)<br>\n",
    "X = A,G,C,T (any)<br>\n",
    "\n"
   ]
  },
  {
   "cell_type": "code",
   "execution_count": 10,
   "metadata": {},
   "outputs": [],
   "source": [
    "import doctest # C’est pour pouvoir utiliser doctest.testmod() et tester les fonctions\n",
    "import random"
   ]
  },
  {
   "cell_type": "code",
   "execution_count": 11,
   "metadata": {},
   "outputs": [
    {
     "data": {
      "text/plain": [
       "'T'"
      ]
     },
     "execution_count": 11,
     "metadata": {},
     "output_type": "execute_result"
    }
   ],
   "source": [
    "random.choice(['A', 'C', 'T', 'G'])"
   ]
  },
  {
   "cell_type": "code",
   "execution_count": 12,
   "metadata": {},
   "outputs": [
    {
     "name": "stdout",
     "output_type": "stream",
     "text": [
      "**********************************************************************\n",
      "File \"__main__\", line 5, in __main__.liste_orfs2\n",
      "Failed example:\n",
      "    sorted(liste_orfs('AAATGATGTAATAGTGTTTTGATTAGGGCAT'))\n",
      "Exception raised:\n",
      "    Traceback (most recent call last):\n",
      "      File \"/usr/local/anaconda3/lib/python3.7/doctest.py\", line 1329, in __run\n",
      "        compileflags, 1), test.globs)\n",
      "      File \"<doctest __main__.liste_orfs2[0]>\", line 1, in <module>\n",
      "        sorted(liste_orfs('AAATGATGTAATAGTGTTTTGATTAGGGCAT'))\n",
      "    NameError: name 'liste_orfs' is not defined\n",
      "**********************************************************************\n",
      "1 items had failures:\n",
      "   1 of   1 in __main__.liste_orfs2\n",
      "***Test Failed*** 1 failures.\n"
     ]
    },
    {
     "data": {
      "text/plain": [
       "'ATGAAACGCATTAGCCACACCATTACCACCACCATCACCATTACCACAGTTAACGGTGCGGGCTGA'"
      ]
     },
     "execution_count": 12,
     "metadata": {},
     "output_type": "execute_result"
    }
   ],
   "source": [
    "##### Question 1\n",
    "def remplace_non_identifies(seq):\n",
    "    \"\"\"\n",
    "    Remplace les nucléotides non identifiés par une des possibilités de façon aléatoire.\n",
    "    \n",
    "    \"\"\"\n",
    "    options = {\n",
    "        \"R\": [\"G\", \"A\"],\n",
    "        \"Y\": [\"T\", \"C\"],\n",
    "        \"K\": [\"G\", \"T\"],\n",
    "        \"M\": [\"A\", \"C\"],\n",
    "        \"S\": [\"G\", \"C\"],\n",
    "        \"W\": [\"A\", \"T\"],\n",
    "        \"B\": [\"G\", \"T\", \"C\"],\n",
    "        \"D\": [\"G\", \"A\", \"T\"],\n",
    "        \"H\": [\"A\", \"C\", \"T\"],\n",
    "        \"V\": [\"G\", \"C\", \"A\"],\n",
    "        \"N\": [\"A\", \"G\", \"C\", \"T\"],\n",
    "        \"X\": [\"A\", \"G\", \"C\", \"T\"]\n",
    "    }\n",
    "    \n",
    "    seq2 = \"\"\n",
    "    \n",
    "    for i in range(len(seq)):\n",
    "        if(seq[i] in options.keys()):\n",
    "            seq2 += random.choice(options[seq[i]])\n",
    "        else:\n",
    "            seq2 += seq[i]\n",
    "    \n",
    "    return seq2\n",
    "\n",
    "\n",
    "doctest.testmod()\n",
    "\n",
    "remplace_non_identifies(TESTSEQ)"
   ]
  },
  {
   "cell_type": "markdown",
   "metadata": {},
   "source": [
    "<b>Question 2)</b> Ecrire une fonction `listecodon` qui renvoie une liste de codons pour une séquence passée en paramètre. Par exemple, si on passe la séquence ``AACGTGGCA`` comme paramètre votre fonction doit renvoyer ``[‘AAC’, ‘GTG’, ‘GCA’]``. Si la longueur de la séquence n'est pas un multiple de 3 on ne tiendra pas compte des 1 ou 2 nucléotides restant à la fin.\n"
   ]
  },
  {
   "cell_type": "code",
   "execution_count": 13,
   "metadata": {},
   "outputs": [],
   "source": [
    "?range"
   ]
  },
  {
   "cell_type": "code",
   "execution_count": 14,
   "metadata": {},
   "outputs": [
    {
     "name": "stdout",
     "output_type": "stream",
     "text": [
      "**********************************************************************\n",
      "File \"__main__\", line 5, in __main__.liste_orfs2\n",
      "Failed example:\n",
      "    sorted(liste_orfs('AAATGATGTAATAGTGTTTTGATTAGGGCAT'))\n",
      "Exception raised:\n",
      "    Traceback (most recent call last):\n",
      "      File \"/usr/local/anaconda3/lib/python3.7/doctest.py\", line 1329, in __run\n",
      "        compileflags, 1), test.globs)\n",
      "      File \"<doctest __main__.liste_orfs2[0]>\", line 1, in <module>\n",
      "        sorted(liste_orfs('AAATGATGTAATAGTGTTTTGATTAGGGCAT'))\n",
      "    NameError: name 'liste_orfs' is not defined\n",
      "**********************************************************************\n",
      "1 items had failures:\n",
      "   1 of   1 in __main__.liste_orfs2\n",
      "***Test Failed*** 1 failures.\n"
     ]
    }
   ],
   "source": [
    "# Question 2\n",
    "def listecodon(seq):\n",
    "    \"\"\"\n",
    "    Renvoie une liste de codons pour une séquence passée en paramètre.\n",
    "    \n",
    "    Si la longueur de la séquence n'est pas un multiple de 3 elle ne tiendra pas \n",
    "    compte des 1 ou 2 nucléotides restant à la fin.\n",
    "    \n",
    "    >>> listecodon('AAACCC')\n",
    "    ['AAA', 'CCC']\n",
    "    >>> listecodon('AAACC')\n",
    "    ['AAA']\n",
    "    >>> listecodon('AAAC')\n",
    "    ['AAA']\n",
    "    \"\"\"\n",
    "    res = []\n",
    "    \n",
    "    for i in range(0, len(seq), 3) :\n",
    "        if i+3 <= len(seq) :\n",
    "            res.append(seq[i:i+3])\n",
    "    return res\n",
    "\n",
    "doctest.testmod()\n",
    "\n",
    "assert listecodon(TESTSEQCLEAN) == [\n",
    "    'ATG', 'AAA', 'CGC', 'ATT', 'AGC', 'ACC', 'ACC', 'ATT', 'ACC', 'ACC',\n",
    "    'ACC', 'ATC', 'ACC', 'ATT', 'ACC', 'ACA', 'GGT', 'AAC', 'GGT', 'GCG',\n",
    "    'GGC', 'TGA'\n",
    "]"
   ]
  },
  {
   "cell_type": "markdown",
   "metadata": {},
   "source": [
    "<b>Question 3)</b> Ecrire une fonction `reversecompl` qui renvoie le brin complémentaire d’une séquence passée en paramètre. Par exemple, si on passe la séquence ``AACGTGGCA`` comme paramètre votre fonction doit renvoyer ``TGCCACGTT``.\n"
   ]
  },
  {
   "cell_type": "code",
   "execution_count": 15,
   "metadata": {},
   "outputs": [],
   "source": [
    "# Question 3\n",
    "def reversecompl(seq):\n",
    "    \"\"\"Renvoie le brin complémentaire d’une séquence.\"\"\"\n",
    "    compl = {'A': 'T', 'C': 'G', 'G': 'C', 'T':'A'}\n",
    "    letters = [compl[seq[i]] for i in range(len(seq))]\n",
    "    return (''.join(letters))[::-1]\n",
    "    \n",
    "\n",
    "\n",
    "#print (reversecompl('AACGTGGCA'))\n",
    "assert reversecompl(\n",
    "    TESTSEQCLEAN\n",
    ") == \"TCAGCCCGCACCGTTACCTGTGGTAATGGTGATGGTGGTGGTAATGGTGGTGCTAATGCGTTTCAT\""
   ]
  },
  {
   "cell_type": "markdown",
   "metadata": {},
   "source": [
    "<b>Question 4)</b> Ecrire une fonction `liste_orfs` qui retourne la liste de tous les cadres ouverts de lectures, c'est à dire les séquence commençant par un des codons start: ``ATG``, ``GTG``, ``TTG`` (``ATG`` est le plus fréquent) et finissant par un des codons stop : ``TAA``, ``TAG``, ``TGA``. Vous renverrez les séquences pour les 6 phases de lecture (3 pour le brin sens et 3 pour le brin complémentaire). Ces séquences sont nommées séquences CDS (pour _CoDing Sequences_ en anglais) et les phases ouvertes de lecture ORFS (pour _Open Reading Frame_). <br>\n",
    "Note 1 : si plusieurs start sont trouvés dans la même phase de lecture qu'un stop et en amont de celui ci, le CDS débute par conventions au start le plus en amont. <br>\n",
    "Note 2 : les CDS peuvent se chevaucher (sur différentes phases et éventuellement sur le brin d'ADN complémentaire).\n"
   ]
  },
  {
   "cell_type": "code",
   "execution_count": 16,
   "metadata": {},
   "outputs": [
    {
     "data": {
      "text/plain": [
       "TestResults(failed=0, attempted=5)"
      ]
     },
     "execution_count": 16,
     "metadata": {},
     "output_type": "execute_result"
    }
   ],
   "source": [
    "# Question 4\n",
    "def __trouver_orfs(codons):\n",
    "    \"\"\"Retourne cadres ouverts dans la liste des codons.\"\"\"\n",
    "    starts = [\n",
    "        i for i, codon in enumerate(codons) if codon in {'ATG', 'GTG', 'TTG'}\n",
    "    ]\n",
    "    stops = [\n",
    "        i for i, codon in enumerate(codons) if codon in {'TAA', 'TAG', 'TGA'}\n",
    "    ]\n",
    "    \n",
    "    if starts and stops:\n",
    "        debut = starts[0]\n",
    "        fin = stops[0]\n",
    "    else:\n",
    "        debut = len(starts) - 1\n",
    "        fin = len(starts) - 2\n",
    "    \n",
    "    return (debut, fin)\n",
    "\n",
    "def liste_orfs(seq):\n",
    "    \"\"\"\n",
    "    Retourne la liste de tous les cadres ouverts de lectures.\n",
    "        \n",
    "    >>> sorted(liste_orfs('AAATGATGTAATAGTGTTTTGATTAGGGCAT'))\n",
    "    ['ATGATGTAA', 'ATGCCCTAA', 'GTGTTTTGA']\n",
    "    \"\"\"\n",
    "    codon_seq1 = listecodon(seq)\n",
    "    codon_seq2 = listecodon(seq[1:])\n",
    "    codon_seq3 = listecodon(seq[2:])\n",
    "    \n",
    "    \n",
    "    orf1_debut, orf1_fin = __trouver_orfs(codon_seq1)\n",
    "    orf2_debut, orf2_fin = __trouver_orfs(codon_seq2)\n",
    "    orf3_debut, orf3_fin = __trouver_orfs(codon_seq3)\n",
    "    \n",
    "    \n",
    "    \n",
    "    seq_tmp = \"\"\n",
    "    orfs = []\n",
    "    \n",
    "    for index in range(orf1_debut, orf1_fin + 1):\n",
    "        seq_tmp += codon_seq1[index]\n",
    "        \n",
    "    if len(seq_tmp) != 0:\n",
    "        orfs.append(seq_tmp)\n",
    "    seq_tmp = \"\"\n",
    "    \n",
    "    \n",
    "    \n",
    "    \n",
    "    for index in range(orf2_debut, orf2_fin + 1):\n",
    "        seq_tmp += codon_seq2[index]\n",
    "    \n",
    "    if len(seq_tmp) != 0:\n",
    "        orfs.append(seq_tmp)\n",
    "    seq_tmp = \"\"\n",
    "    \n",
    "    \n",
    "    \n",
    "    \n",
    "    for index in range(orf3_debut, orf3_fin + 1):\n",
    "        seq_tmp += codon_seq3[index]\n",
    "    \n",
    "    if len(seq_tmp) != 0:\n",
    "        orfs.append(seq_tmp)\n",
    "    seq_tmp = \"\"\n",
    "    \n",
    "    \n",
    "    \n",
    "    seq_reverse = reversecompl(seq)\n",
    "    \n",
    "    codon_seq1_reverse = listecodon(seq_reverse)\n",
    "    codon_seq2_reverse = listecodon(seq_reverse[1:])\n",
    "    codon_seq3_reverse = listecodon(seq_reverse[2:])\n",
    "    \n",
    "    \n",
    "    orf1_debut_reverse, orf1_fin_reverse = __trouver_orfs(codon_seq1_reverse)\n",
    "    orf2_debut_reverse, orf2_fin_reverse = __trouver_orfs(codon_seq2_reverse)\n",
    "    orf3_debut_reverse, orf3_fin_reverse = __trouver_orfs(codon_seq3_reverse)\n",
    "    \n",
    "    \n",
    "    seq_reverse_tmp = \"\"\n",
    "    \n",
    "    for index in range(orf1_debut_reverse, orf1_fin_reverse + 1):\n",
    "        seq_reverse_tmp += codon_seq1_reverse[index]\n",
    "        \n",
    "    if len(seq_reverse_tmp) != 0:\n",
    "        orfs.append(seq_reverse_tmp)\n",
    "    seq_reverse_tmp = \"\"\n",
    "    \n",
    "    \n",
    "    \n",
    "    \n",
    "    for index in range(orf2_debut_reverse, orf2_fin_reverse + 1):\n",
    "        seq_reverse_tmp += codon_seq2_reverse[index]\n",
    "        \n",
    "    if len(seq_reverse_tmp) != 0:\n",
    "        orfs.append(seq_reverse_tmp)\n",
    "    seq_reverse_tmp = \"\"\n",
    "    \n",
    "    \n",
    "    \n",
    "    \n",
    "    for index in range(orf3_debut_reverse, orf3_fin_reverse + 1):\n",
    "        seq_reverse_tmp += codon_seq3_reverse[index]\n",
    "        \n",
    "    if len(seq_reverse_tmp) != 0:\n",
    "        orfs.append(seq_reverse_tmp)\n",
    "    seq_reverse_tmp = \"\"\n",
    "    \n",
    "\n",
    "    \n",
    "\n",
    "    return orfs\n",
    "\n",
    "\n",
    "doctest.testmod()"
   ]
  },
  {
   "cell_type": "code",
   "execution_count": 17,
   "metadata": {},
   "outputs": [
    {
     "data": {
      "text/plain": [
       "['ATGAAACGCATTAGCACCACCATTACCACCACCATCACCATTACCACAGGTAACGGTGCGGGCTGA']"
      ]
     },
     "execution_count": 17,
     "metadata": {},
     "output_type": "execute_result"
    }
   ],
   "source": [
    " liste_orfs(TESTSEQCLEAN)"
   ]
  },
  {
   "cell_type": "markdown",
   "metadata": {},
   "source": [
    "Voici un code efficaz qui utilise Regular Expression"
   ]
  },
  {
   "cell_type": "code",
   "execution_count": 18,
   "metadata": {},
   "outputs": [],
   "source": [
    "import re"
   ]
  },
  {
   "cell_type": "code",
   "execution_count": 19,
   "metadata": {},
   "outputs": [
    {
     "data": {
      "text/plain": [
       "['ATGATGTAA', 'GTGTTTTGA']"
      ]
     },
     "execution_count": 19,
     "metadata": {},
     "output_type": "execute_result"
    }
   ],
   "source": [
    "[\n",
    "    match.group()\n",
    "    for match in re.finditer('((ATG|GTG|TTG)((?!TAA|TAG|TGA)([ACTG][ACTG][ACTG]))*(TAA|TAG|TGA))',\n",
    "                             'AAATGATGTAATAGTGTTTTGATTAGGGCAT')\n",
    "]"
   ]
  },
  {
   "cell_type": "code",
   "execution_count": 20,
   "metadata": {},
   "outputs": [
    {
     "data": {
      "text/plain": [
       "TestResults(failed=0, attempted=5)"
      ]
     },
     "execution_count": 20,
     "metadata": {},
     "output_type": "execute_result"
    }
   ],
   "source": [
    "def __liste_orfs_sens(seq):\n",
    "    \"\"\"Retourne la liste des cadres ouverts de lecture, sens 5' vers 3'.\"\"\"\n",
    "    return [\n",
    "        match.group() for match in re.finditer(\n",
    "            '((ATG|GTG|TTG)((?!TAA|TAG|TGA)([ACTG][ACTG][ACTG]))*(TAA|TAG|TGA))',\n",
    "            seq)\n",
    "    ]\n",
    "\n",
    "\n",
    "def liste_orfs(seq):\n",
    "    \"\"\"\n",
    "    Retourne la liste de tous les cadres ouverts de lectures.\n",
    "        \n",
    "    >>> sorted(liste_orfs('AAATGATGTAATAGTGTTTTGATTAGGGCAT'))\n",
    "    ['ATGATGTAA', 'ATGCCCTAA', 'GTGTTTTGA']\n",
    "    \"\"\"\n",
    "    liste = __liste_orfs_sens(seq)\n",
    "    liste.extend(__liste_orfs_sens(reversecompl(seq)))\n",
    "    return liste\n",
    "\n",
    "\n",
    "doctest.testmod()"
   ]
  },
  {
   "cell_type": "code",
   "execution_count": 21,
   "metadata": {},
   "outputs": [
    {
     "data": {
      "text/plain": [
       "['ATGAAACGCATTAGCACCACCATTACCACCACCATCACCATTACCACAGGTAACGGTGCGGGCTGA']"
      ]
     },
     "execution_count": 21,
     "metadata": {},
     "output_type": "execute_result"
    }
   ],
   "source": [
    "liste_orfs(TESTSEQCLEAN)"
   ]
  },
  {
   "cell_type": "markdown",
   "metadata": {},
   "source": [
    "<b>Question 5)</b> Développez une fonction `traduit_prot` qui étant donné un gène renvoie la protéine traduite. Utilisez le dictionnaire définit ci dessous."
   ]
  },
  {
   "cell_type": "code",
   "execution_count": 22,
   "metadata": {},
   "outputs": [],
   "source": [
    "# Question 5\n",
    "def traduit_prot(seq, codegenetique=CODEGENETIQUE):\n",
    "    \"\"\"Renvoie la protéine traduite, par défaut il utilise CODEGENETIQUE.\"\"\"\n",
    "    \n",
    "    proteine = \"\"\n",
    "    \n",
    "    codon_du_seq = listecodon(seq)\n",
    "    for codon in codon_du_seq:\n",
    "        proteine += codegenetique[codon]\n",
    "    \n",
    "    return proteine\n",
    "\n",
    "\n",
    "assert traduit_prot(TESTSEQCLEAN) == \"MKRISTTITTTITITTGNGAG*\""
   ]
  },
  {
   "cell_type": "markdown",
   "metadata": {},
   "source": [
    "### C) Analyse des phases ouvertes de lecture\n",
    "\n",
    "<b>Question 1)</b> Utilisez votre fonction `liste_orfs` qui trouve toutes les ORFs pour ne trouver que les ORFs d’un génome sur le brin sens, c'est à dire pour trois premières phases. Sauvegarder l'ensemble des ORFs trouvé dans un fichier de type fasta.\n"
   ]
  },
  {
   "cell_type": "code",
   "execution_count": 23,
   "metadata": {},
   "outputs": [],
   "source": [
    "def read_fasta(filename):\n",
    "    \"\"\"Lire un fichier fasta dans un dict à partir des identifiants des séquences.\"\"\"\n",
    "    seqs = {}\n",
    "    with open(filename, 'r') as file:\n",
    "        seqid = ''\n",
    "        seq = ''\n",
    "        for line in file:\n",
    "            if line.startswith('>'):\n",
    "                if seqid != '':\n",
    "                    seqs[seqid] = seq\n",
    "                else:\n",
    "                    seq = ''\n",
    "                seqid = line.replace('>', '').strip()\n",
    "            else:\n",
    "                seq = seq + line.strip()\n",
    "        seqs[seqid] = seq\n",
    "\n",
    "    return seqs"
   ]
  },
  {
   "cell_type": "code",
   "execution_count": 24,
   "metadata": {},
   "outputs": [],
   "source": [
    "def write_fasta(filename, sequences):\n",
    "    \"\"\"Ecrivez un fichier fasta à partir d'une liste de séquences.\"\"\"\n",
    "    with open(filename, 'w') as file:\n",
    "        counter = 0\n",
    "        for seq in sequences:\n",
    "            file.write('>seq_{}\\n{}\\n'.format(counter, seq))\n",
    "            counter += 1"
   ]
  },
  {
   "cell_type": "code",
   "execution_count": 25,
   "metadata": {},
   "outputs": [],
   "source": [
    "def head(filename):\n",
    "    \"\"\"Montrer les 10 premières lignes.\"\"\"\n",
    "    with open(filename) as file:\n",
    "        counter = 0\n",
    "        for line in file:\n",
    "            print(line.strip())\n",
    "            counter += 1\n",
    "            if counter == 10:\n",
    "                break"
   ]
  },
  {
   "cell_type": "code",
   "execution_count": 26,
   "metadata": {},
   "outputs": [
    {
     "name": "stdout",
     "output_type": "stream",
     "text": [
      "['GTGTTTTGA', 'ATGATGTAA']\n"
     ]
    }
   ],
   "source": [
    "def liste_orfs2(seq):\n",
    "    \"\"\"\n",
    "    Retourne la liste de tous les cadres ouverts de lectures.\n",
    "        \n",
    "    >>> sorted(liste_orfs('AAATGATGTAATAGTGTTTTGATTAGGGCAT'))\n",
    "    ['ATGATGTAA', 'ATGCCCTAA', 'GTGTTTTGA']\n",
    "    \"\"\"\n",
    "    codon_seq1 = listecodon(seq)\n",
    "    codon_seq2 = listecodon(seq[1:])\n",
    "    codon_seq3 = listecodon(seq[2:])\n",
    "    \n",
    "    \n",
    "    orf1_debut, orf1_fin = __trouver_orfs(codon_seq1)\n",
    "    orf2_debut, orf2_fin = __trouver_orfs(codon_seq2)\n",
    "    orf3_debut, orf3_fin = __trouver_orfs(codon_seq3)\n",
    "    \n",
    "    \n",
    "    \n",
    "    seq_tmp = \"\"\n",
    "    orfs = []\n",
    "    \n",
    "    for index in range(orf1_debut, orf1_fin + 1):\n",
    "        seq_tmp += codon_seq1[index]\n",
    "        \n",
    "    if len(seq_tmp) != 0:\n",
    "        orfs.append(seq_tmp)\n",
    "    seq_tmp = \"\"\n",
    "    \n",
    "    \n",
    "    \n",
    "    \n",
    "    for index in range(orf2_debut, orf2_fin + 1):\n",
    "        seq_tmp += codon_seq2[index]\n",
    "    \n",
    "    if len(seq_tmp) != 0:\n",
    "        orfs.append(seq_tmp)\n",
    "    seq_tmp = \"\"\n",
    "    \n",
    "    \n",
    "    \n",
    "    \n",
    "    for index in range(orf3_debut, orf3_fin + 1):\n",
    "        seq_tmp += codon_seq3[index]\n",
    "    \n",
    "    if len(seq_tmp) != 0:\n",
    "        orfs.append(seq_tmp)\n",
    "    seq_tmp = \"\"\n",
    "    \n",
    "    \n",
    "    return orfs\n",
    "print(liste_orfs2('AAATGATGTAATAGTGTTTTGATTAGGGCAT'))"
   ]
  },
  {
   "cell_type": "code",
   "execution_count": 27,
   "metadata": {},
   "outputs": [],
   "source": [
    "sequence = 'AAATGATGTAATAGTGTTTTGATTAGGGCAT'\n",
    "\n",
    "for s in liste_orfs2(sequence):\n",
    "    write_fasta(\"exoC.fasta\", s)"
   ]
  },
  {
   "cell_type": "code",
   "execution_count": null,
   "metadata": {},
   "outputs": [],
   "source": []
  },
  {
   "cell_type": "markdown",
   "metadata": {},
   "source": [
    "\n",
    "<b>Question 2)</b> Dessinez un histogramme (avec matplotlib) de la distribution de longueur des ORFs détectés précédemment, que remarquez vous ? \n"
   ]
  },
  {
   "cell_type": "code",
   "execution_count": 31,
   "metadata": {},
   "outputs": [],
   "source": [
    "# Question 2\n",
    "\n",
    "# Plot avec matplotlib\n",
    "import matplotlib.pyplot as plt\n",
    "\n",
    "\n"
   ]
  },
  {
   "cell_type": "markdown",
   "metadata": {},
   "source": [
    "\n",
    "<b>Question 3)</b> Utilisez la question précédente pour fixer un seuil pour dire qu’un ORF est un gène. (par exemple plus que 99 nucléotides). En déduire une première annotation des gènes dans le génome de _Escherichia coli_. Vous produirez un fichier tab avec les positions de tous les ORFs annotés. Quels gènes du brin positif vont être ratés à votre avis ? "
   ]
  },
  {
   "cell_type": "code",
   "execution_count": 29,
   "metadata": {},
   "outputs": [],
   "source": [
    "# Question 3\n",
    "# Fichier d'annotation des ORFs\n"
   ]
  },
  {
   "cell_type": "code",
   "execution_count": null,
   "metadata": {},
   "outputs": [],
   "source": []
  },
  {
   "cell_type": "code",
   "execution_count": null,
   "metadata": {},
   "outputs": [],
   "source": []
  },
  {
   "cell_type": "code",
   "execution_count": null,
   "metadata": {},
   "outputs": [],
   "source": []
  }
 ],
 "metadata": {
  "kernelspec": {
   "display_name": "Python 3",
   "language": "python",
   "name": "python3"
  },
  "language_info": {
   "codemirror_mode": {
    "name": "ipython",
    "version": 3
   },
   "file_extension": ".py",
   "mimetype": "text/x-python",
   "name": "python",
   "nbconvert_exporter": "python",
   "pygments_lexer": "ipython3",
   "version": "3.7.3"
  }
 },
 "nbformat": 4,
 "nbformat_minor": 2
}
